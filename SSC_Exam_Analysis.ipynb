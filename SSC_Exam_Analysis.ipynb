{
 "cells": [
  {
   "cell_type": "markdown",
   "id": "38325a79",
   "metadata": {},
   "source": [
    "\n",
    "#  SSC Exam Result Analysis\n",
    "\n",
    "\n",
    "As part of my self-learning journey, I conducted an in-depth analysis of **real SSC (Secondary School Certificate) exam result data**. The goal was to extract meaningful insights that could help educators, institutions, and stakeholders better understand student performance trends.\n",
    "\n",
    "##  Key Insights from the Analysis:\n",
    "\n",
    "*  **Pass vs Fail Student Distributions** — Understand the overall success and failure rates.\n",
    "*  **Most Failed Subjects** — Identify subjects where students are struggling the most.\n",
    "*  **Subject-wise Fail Correlations** — Discover which subjects are often failed together.\n",
    "*  **Fine Overview** — Analyze the frequency and patterns of imposed fines.\n",
    "*  **Cancelled Exam Overview** — Review trends in cancelled or withdrawn subjects.\n",
    "\n",
    "These insights can support data-driven decision-making for curriculum improvements, early interventions, and targeted academic support.\n",
    "\n",
    "## Tools & Technologies Used\n",
    "\n",
    "* `Python`\n",
    "* `Pandas`\n",
    "* `Seaborn`\n",
    "* `Matplotlib`\n",
    "\n",
    "\n",
    "##  Project Links\n",
    "\n",
    "*  **GitHub Repository**: [SSC Analysis](https://github.com/ikram-3/ssc-exam-analysis)\n",
    "*  **Dataset (CSV)**: [Download SSC Result Dataset](https://raw.githubusercontent.com/ikram-3/ssc-exam-analysis/main/SSC.csv)\n",
    "\n",
    "##  Let's Connect\n",
    "\n",
    "I'm excited to grow in the field of data science and collaborate on meaningful projects. If you’re working on something similar or would like to discuss this project, feel free to connect!\n",
    "\n"
   ]
  },
  {
   "cell_type": "markdown",
   "id": "e5b1c729",
   "metadata": {},
   "source": [
    "# 📊 SSC Exam Data Analysis"
   ]
  },
  {
   "cell_type": "markdown",
   "id": "1ecf7cc3",
   "metadata": {},
   "source": [
    "\n",
    "analyzes student performance in SSC exams. We calculate:\n",
    "- Total students appeared\n",
    "- Number of students passed and failed\n",
    "- Most failed subjects\n",
    "\n"
   ]
  },
  {
   "cell_type": "markdown",
   "id": "d6bb32ed",
   "metadata": {},
   "source": [
    "### Loading the Dataset\n",
    ">This section imports the required Python libraries (pandas, matplotlib.pyplot, seaborn, and Counter from collections) for data analysis and visualization. It then loads the SSC exam dataset from the file SSC.csv into a pandas DataFrame and displays the first five rows to provide a quick overview of the data structure."
   ]
  },
  {
   "cell_type": "code",
   "execution_count": 2,
   "id": "198d70ad",
   "metadata": {},
   "outputs": [
    {
     "data": {
      "text/html": [
       "<div>\n",
       "<style scoped>\n",
       "    .dataframe tbody tr th:only-of-type {\n",
       "        vertical-align: middle;\n",
       "    }\n",
       "\n",
       "    .dataframe tbody tr th {\n",
       "        vertical-align: top;\n",
       "    }\n",
       "\n",
       "    .dataframe thead th {\n",
       "        text-align: right;\n",
       "    }\n",
       "</style>\n",
       "<table border=\"1\" class=\"dataframe\">\n",
       "  <thead>\n",
       "    <tr style=\"text-align: right;\">\n",
       "      <th></th>\n",
       "      <th>ROLL_NO</th>\n",
       "      <th>NAME</th>\n",
       "      <th>FATHER_NAME</th>\n",
       "      <th>MARKS</th>\n",
       "      <th>GRADE</th>\n",
       "      <th>REMARKS</th>\n",
       "    </tr>\n",
       "  </thead>\n",
       "  <tbody>\n",
       "    <tr>\n",
       "      <th>0</th>\n",
       "      <td>100001</td>\n",
       "      <td>JALWA BIBI</td>\n",
       "      <td>ALAM ZEB</td>\n",
       "      <td>NaN</td>\n",
       "      <td>NaN</td>\n",
       "      <td>PS-I,M-I,PH-I,CH-I,</td>\n",
       "    </tr>\n",
       "    <tr>\n",
       "      <th>1</th>\n",
       "      <td>100002</td>\n",
       "      <td>IQRA AYAZ</td>\n",
       "      <td>MUHAMMAD AYAZ</td>\n",
       "      <td>NaN</td>\n",
       "      <td>NaN</td>\n",
       "      <td>PS-I,PH-I,CH-I,</td>\n",
       "    </tr>\n",
       "    <tr>\n",
       "      <th>2</th>\n",
       "      <td>100003</td>\n",
       "      <td>UROOJ MALIK</td>\n",
       "      <td>GUL MALIK</td>\n",
       "      <td>NaN</td>\n",
       "      <td>NaN</td>\n",
       "      <td>PH-I,CH-I,</td>\n",
       "    </tr>\n",
       "    <tr>\n",
       "      <th>3</th>\n",
       "      <td>100004</td>\n",
       "      <td>MUSKAN BIBI</td>\n",
       "      <td>RAHMAN ALI</td>\n",
       "      <td>NaN</td>\n",
       "      <td>NaN</td>\n",
       "      <td>IC-I,PS-I,M-I,PH-I,CH-I,</td>\n",
       "    </tr>\n",
       "    <tr>\n",
       "      <th>4</th>\n",
       "      <td>100005</td>\n",
       "      <td>KASHMALA BEGUM</td>\n",
       "      <td>RIAZ UD DIN</td>\n",
       "      <td>NaN</td>\n",
       "      <td>NaN</td>\n",
       "      <td>IC-I,PS-I,M-I,CH-I,BIO-1,</td>\n",
       "    </tr>\n",
       "  </tbody>\n",
       "</table>\n",
       "</div>"
      ],
      "text/plain": [
       "  ROLL_NO            NAME    FATHER_NAME MARKS GRADE  \\\n",
       "0  100001      JALWA BIBI       ALAM ZEB   NaN   NaN   \n",
       "1  100002       IQRA AYAZ  MUHAMMAD AYAZ   NaN   NaN   \n",
       "2  100003     UROOJ MALIK      GUL MALIK   NaN   NaN   \n",
       "3  100004     MUSKAN BIBI     RAHMAN ALI   NaN   NaN   \n",
       "4  100005  KASHMALA BEGUM    RIAZ UD DIN   NaN   NaN   \n",
       "\n",
       "                     REMARKS  \n",
       "0        PS-I,M-I,PH-I,CH-I,  \n",
       "1            PS-I,PH-I,CH-I,  \n",
       "2                 PH-I,CH-I,  \n",
       "3   IC-I,PS-I,M-I,PH-I,CH-I,  \n",
       "4  IC-I,PS-I,M-I,CH-I,BIO-1,  "
      ]
     },
     "execution_count": 2,
     "metadata": {},
     "output_type": "execute_result"
    }
   ],
   "source": [
    "import pandas as pd\n",
    "import matplotlib.pyplot as plt\n",
    "import seaborn as sns\n",
    "from collections import Counter\n",
    "\n",
    "df = pd.read_csv(\"SSC.csv\")\n",
    "df.head()\n"
   ]
  },
  {
   "cell_type": "markdown",
   "id": "f58b1eb0",
   "metadata": {},
   "source": [
    "### Calculating Pass and Fail Statistics\n",
    "> This section creates a new column Status in the DataFrame to classify students as 'Pass' or 'Fail' based on whether their GRADE is non-null (indicating a pass). It then computes the total number of students, the number of students who passed, and the number who failed, printing these statistics for a clear summary."
   ]
  },
  {
   "cell_type": "code",
   "execution_count": 3,
   "id": "4797492b",
   "metadata": {},
   "outputs": [
    {
     "name": "stdout",
     "output_type": "stream",
     "text": [
      "Total Students: 98782\n",
      "Passed: 59593\n",
      "Failed: 39189\n"
     ]
    },
    {
     "data": {
      "text/html": [
       "<div>\n",
       "<style scoped>\n",
       "    .dataframe tbody tr th:only-of-type {\n",
       "        vertical-align: middle;\n",
       "    }\n",
       "\n",
       "    .dataframe tbody tr th {\n",
       "        vertical-align: top;\n",
       "    }\n",
       "\n",
       "    .dataframe thead th {\n",
       "        text-align: right;\n",
       "    }\n",
       "</style>\n",
       "<table border=\"1\" class=\"dataframe\">\n",
       "  <thead>\n",
       "    <tr style=\"text-align: right;\">\n",
       "      <th></th>\n",
       "      <th>ROLL_NO</th>\n",
       "      <th>NAME</th>\n",
       "      <th>FATHER_NAME</th>\n",
       "      <th>MARKS</th>\n",
       "      <th>GRADE</th>\n",
       "      <th>REMARKS</th>\n",
       "      <th>Status</th>\n",
       "    </tr>\n",
       "  </thead>\n",
       "  <tbody>\n",
       "    <tr>\n",
       "      <th>0</th>\n",
       "      <td>100001</td>\n",
       "      <td>JALWA BIBI</td>\n",
       "      <td>ALAM ZEB</td>\n",
       "      <td>NaN</td>\n",
       "      <td>NaN</td>\n",
       "      <td>PS-I,M-I,PH-I,CH-I,</td>\n",
       "      <td>Fail</td>\n",
       "    </tr>\n",
       "    <tr>\n",
       "      <th>1</th>\n",
       "      <td>100002</td>\n",
       "      <td>IQRA AYAZ</td>\n",
       "      <td>MUHAMMAD AYAZ</td>\n",
       "      <td>NaN</td>\n",
       "      <td>NaN</td>\n",
       "      <td>PS-I,PH-I,CH-I,</td>\n",
       "      <td>Fail</td>\n",
       "    </tr>\n",
       "    <tr>\n",
       "      <th>2</th>\n",
       "      <td>100003</td>\n",
       "      <td>UROOJ MALIK</td>\n",
       "      <td>GUL MALIK</td>\n",
       "      <td>NaN</td>\n",
       "      <td>NaN</td>\n",
       "      <td>PH-I,CH-I,</td>\n",
       "      <td>Fail</td>\n",
       "    </tr>\n",
       "    <tr>\n",
       "      <th>3</th>\n",
       "      <td>100004</td>\n",
       "      <td>MUSKAN BIBI</td>\n",
       "      <td>RAHMAN ALI</td>\n",
       "      <td>NaN</td>\n",
       "      <td>NaN</td>\n",
       "      <td>IC-I,PS-I,M-I,PH-I,CH-I,</td>\n",
       "      <td>Fail</td>\n",
       "    </tr>\n",
       "    <tr>\n",
       "      <th>4</th>\n",
       "      <td>100005</td>\n",
       "      <td>KASHMALA BEGUM</td>\n",
       "      <td>RIAZ UD DIN</td>\n",
       "      <td>NaN</td>\n",
       "      <td>NaN</td>\n",
       "      <td>IC-I,PS-I,M-I,CH-I,BIO-1,</td>\n",
       "      <td>Fail</td>\n",
       "    </tr>\n",
       "    <tr>\n",
       "      <th>...</th>\n",
       "      <td>...</td>\n",
       "      <td>...</td>\n",
       "      <td>...</td>\n",
       "      <td>...</td>\n",
       "      <td>...</td>\n",
       "      <td>...</td>\n",
       "      <td>...</td>\n",
       "    </tr>\n",
       "    <tr>\n",
       "      <th>98777</th>\n",
       "      <td>283958</td>\n",
       "      <td>Naeem Ullah</td>\n",
       "      <td>Bakht sher Ali</td>\n",
       "      <td>NaN</td>\n",
       "      <td>NaN</td>\n",
       "      <td>PH-I,M-II,PH-II,</td>\n",
       "      <td>Fail</td>\n",
       "    </tr>\n",
       "    <tr>\n",
       "      <th>98778</th>\n",
       "      <td>283959</td>\n",
       "      <td>SHEHBAZ GHANI</td>\n",
       "      <td>FAZAL GHANI</td>\n",
       "      <td>535</td>\n",
       "      <td>D</td>\n",
       "      <td>NaN</td>\n",
       "      <td>Pass</td>\n",
       "    </tr>\n",
       "    <tr>\n",
       "      <th>98779</th>\n",
       "      <td>283960</td>\n",
       "      <td>Humira Bibi</td>\n",
       "      <td>Shafiq Ahmad</td>\n",
       "      <td>NaN</td>\n",
       "      <td>NaN</td>\n",
       "      <td>PH-I,IC-II,MQ-II,</td>\n",
       "      <td>Fail</td>\n",
       "    </tr>\n",
       "    <tr>\n",
       "      <th>98780</th>\n",
       "      <td>283961</td>\n",
       "      <td>USMAN ALI</td>\n",
       "      <td>MUHAMMAD IQBAL</td>\n",
       "      <td>NaN</td>\n",
       "      <td>NaN</td>\n",
       "      <td>IC-II,PS-II,</td>\n",
       "      <td>Fail</td>\n",
       "    </tr>\n",
       "    <tr>\n",
       "      <th>98781</th>\n",
       "      <td>283962</td>\n",
       "      <td>IZAZ ULLAH</td>\n",
       "      <td>MUHAMMAD IBRARULLAH</td>\n",
       "      <td>NaN</td>\n",
       "      <td>NaN</td>\n",
       "      <td>E-I,E-II,PS-II,</td>\n",
       "      <td>Fail</td>\n",
       "    </tr>\n",
       "  </tbody>\n",
       "</table>\n",
       "<p>98782 rows × 7 columns</p>\n",
       "</div>"
      ],
      "text/plain": [
       "      ROLL_NO            NAME          FATHER_NAME MARKS GRADE  \\\n",
       "0      100001      JALWA BIBI             ALAM ZEB   NaN   NaN   \n",
       "1      100002       IQRA AYAZ        MUHAMMAD AYAZ   NaN   NaN   \n",
       "2      100003     UROOJ MALIK            GUL MALIK   NaN   NaN   \n",
       "3      100004     MUSKAN BIBI           RAHMAN ALI   NaN   NaN   \n",
       "4      100005  KASHMALA BEGUM          RIAZ UD DIN   NaN   NaN   \n",
       "...       ...             ...                  ...   ...   ...   \n",
       "98777  283958     Naeem Ullah       Bakht sher Ali   NaN   NaN   \n",
       "98778  283959   SHEHBAZ GHANI          FAZAL GHANI   535     D   \n",
       "98779  283960     Humira Bibi         Shafiq Ahmad   NaN   NaN   \n",
       "98780  283961       USMAN ALI       MUHAMMAD IQBAL   NaN   NaN   \n",
       "98781  283962      IZAZ ULLAH  MUHAMMAD IBRARULLAH   NaN   NaN   \n",
       "\n",
       "                         REMARKS Status  \n",
       "0            PS-I,M-I,PH-I,CH-I,   Fail  \n",
       "1                PS-I,PH-I,CH-I,   Fail  \n",
       "2                     PH-I,CH-I,   Fail  \n",
       "3       IC-I,PS-I,M-I,PH-I,CH-I,   Fail  \n",
       "4      IC-I,PS-I,M-I,CH-I,BIO-1,   Fail  \n",
       "...                          ...    ...  \n",
       "98777           PH-I,M-II,PH-II,   Fail  \n",
       "98778                        NaN   Pass  \n",
       "98779          PH-I,IC-II,MQ-II,   Fail  \n",
       "98780               IC-II,PS-II,   Fail  \n",
       "98781            E-I,E-II,PS-II,   Fail  \n",
       "\n",
       "[98782 rows x 7 columns]"
      ]
     },
     "execution_count": 3,
     "metadata": {},
     "output_type": "execute_result"
    }
   ],
   "source": [
    "\n",
    "df['Status'] = df['GRADE'].apply(lambda x: 'Pass' if pd.notna(x) else 'Fail')\n",
    "\n",
    "total_students = df.shape[0]\n",
    "status_counts = df['Status'].value_counts()\n",
    "\n",
    "print(\"Total Students:\", total_students)\n",
    "print(\"Passed:\", status_counts['Pass'])\n",
    "print(\"Failed:\", status_counts['Fail'])\n",
    "df"
   ]
  },
  {
   "cell_type": "code",
   "execution_count": null,
   "id": "372d104f",
   "metadata": {},
   "outputs": [],
   "source": []
  },
  {
   "cell_type": "code",
   "execution_count": 4,
   "id": "37fc17e7",
   "metadata": {},
   "outputs": [
    {
     "data": {
      "image/png": "[encoded data removed]",
      "text/plain": [
       "<Figure size 600x600 with 1 Axes>"
      ]
     },
     "metadata": {},
     "output_type": "display_data"
    }
   ],
   "source": [
    "plt.figure(figsize=(6, 6))\n",
    "plt.pie(\n",
    "    x=[status_counts[\"Pass\"], status_counts[\"Fail\"]],\n",
    "    labels=[f\"Pass Students | No. {status_counts[\"Pass\"]}\", f\"Fail Students | No.{status_counts[\"Fail\"]}\"],\n",
    "    autopct=\"%1.0f%%\",\n",
    "    startangle=90,\n",
    "    wedgeprops={'width': 0.4, 'edgecolor': 'white'},\n",
    "    colors=[\"#00EA08\", \"#FB1100\"] ,\n",
    "    pctdistance=0.85\n",
    ")\n",
    "\n",
    "plt.text(0, 0, f'Total\\n{status_counts.sum()}', ha='center', va='center', fontsize=12)\n",
    "\n",
    "plt.title(\"Overall Student Performance \", fontsize=14)\n",
    "plt.axis('equal') \n",
    "plt.show()\n"
   ]
  },
  {
   "cell_type": "code",
   "execution_count": 5,
   "id": "38652b69",
   "metadata": {},
   "outputs": [
    {
     "name": "stderr",
     "output_type": "stream",
     "text": [
      "C:\\Users\\ikram\\AppData\\Local\\Temp\\ipykernel_15336\\1633871303.py:3: FutureWarning: \n",
      "\n",
      "Passing `palette` without assigning `hue` is deprecated and will be removed in v0.14.0. Assign the `x` variable to `hue` and set `legend=False` for the same effect.\n",
      "\n",
      "  sns.barplot(x=status_counts.index, y=status_counts.values, palette=\"pastel\")\n"
     ]
    },
    {
     "data": {
      "image/png": "[encoded data removed]",
      "text/plain": [
       "<Figure size 600x400 with 1 Axes>"
      ]
     },
     "metadata": {},
     "output_type": "display_data"
    }
   ],
   "source": [
    "\n",
    "sns.set(style=\"whitegrid\")\n",
    "plt.figure(figsize=(6,4))\n",
    "sns.barplot(x=status_counts.index, y=status_counts.values, palette=\"pastel\")\n",
    "plt.title(\"Pass vs Fail Count\")\n",
    "plt.ylabel(\"Number of Students\")\n",
    "plt.xlabel(\"Status\")\n",
    "plt.tight_layout()\n",
    "plt.show()\n"
   ]
  },
  {
   "cell_type": "markdown",
   "id": "3d729afd",
   "metadata": {},
   "source": [
    "### Analyzing Subject Failure Combinations\n",
    "> This section uses the itertools.combinations and collections.Counter to identify and count pairs of subjects that students failed together. It processes the failed_subjects data (assumed to be a list of subject lists from the REMARKS column) to generate combinations of failed subjects and stores the counts in a dictionary for further analysis."
   ]
  },
  {
   "cell_type": "code",
   "execution_count": 6,
   "id": "767e8295",
   "metadata": {},
   "outputs": [
    {
     "data": {
      "text/html": [
       "<div>\n",
       "<style scoped>\n",
       "    .dataframe tbody tr th:only-of-type {\n",
       "        vertical-align: middle;\n",
       "    }\n",
       "\n",
       "    .dataframe tbody tr th {\n",
       "        vertical-align: top;\n",
       "    }\n",
       "\n",
       "    .dataframe thead th {\n",
       "        text-align: right;\n",
       "    }\n",
       "</style>\n",
       "<table border=\"1\" class=\"dataframe\">\n",
       "  <thead>\n",
       "    <tr style=\"text-align: right;\">\n",
       "      <th></th>\n",
       "      <th>Subject</th>\n",
       "      <th>Failures</th>\n",
       "    </tr>\n",
       "  </thead>\n",
       "  <tbody>\n",
       "    <tr>\n",
       "      <th>3</th>\n",
       "      <td>CH-I</td>\n",
       "      <td>19107</td>\n",
       "    </tr>\n",
       "    <tr>\n",
       "      <th>4</th>\n",
       "      <td>IC-I</td>\n",
       "      <td>12383</td>\n",
       "    </tr>\n",
       "    <tr>\n",
       "      <th>2</th>\n",
       "      <td>PH-I</td>\n",
       "      <td>10816</td>\n",
       "    </tr>\n",
       "    <tr>\n",
       "      <th>6</th>\n",
       "      <td>E-I</td>\n",
       "      <td>9938</td>\n",
       "    </tr>\n",
       "    <tr>\n",
       "      <th>1</th>\n",
       "      <td>M-I</td>\n",
       "      <td>8797</td>\n",
       "    </tr>\n",
       "    <tr>\n",
       "      <th>5</th>\n",
       "      <td>BIO-1</td>\n",
       "      <td>8433</td>\n",
       "    </tr>\n",
       "    <tr>\n",
       "      <th>0</th>\n",
       "      <td>PS-I</td>\n",
       "      <td>4651</td>\n",
       "    </tr>\n",
       "    <tr>\n",
       "      <th>9</th>\n",
       "      <td>GM-I</td>\n",
       "      <td>4351</td>\n",
       "    </tr>\n",
       "    <tr>\n",
       "      <th>42</th>\n",
       "      <td>M-II</td>\n",
       "      <td>3147</td>\n",
       "    </tr>\n",
       "    <tr>\n",
       "      <th>45</th>\n",
       "      <td>CH-II</td>\n",
       "      <td>2730</td>\n",
       "    </tr>\n",
       "    <tr>\n",
       "      <th>44</th>\n",
       "      <td>PH-II</td>\n",
       "      <td>2600</td>\n",
       "    </tr>\n",
       "    <tr>\n",
       "      <th>7</th>\n",
       "      <td>MQ-I</td>\n",
       "      <td>2527</td>\n",
       "    </tr>\n",
       "    <tr>\n",
       "      <th>8</th>\n",
       "      <td>U-I</td>\n",
       "      <td>2348</td>\n",
       "    </tr>\n",
       "    <tr>\n",
       "      <th>46</th>\n",
       "      <td>PS-II</td>\n",
       "      <td>1985</td>\n",
       "    </tr>\n",
       "    <tr>\n",
       "      <th>43</th>\n",
       "      <td>IC-II</td>\n",
       "      <td>1701</td>\n",
       "    </tr>\n",
       "  </tbody>\n",
       "</table>\n",
       "</div>"
      ],
      "text/plain": [
       "   Subject  Failures\n",
       "3     CH-I     19107\n",
       "4     IC-I     12383\n",
       "2     PH-I     10816\n",
       "6      E-I      9938\n",
       "1      M-I      8797\n",
       "5    BIO-1      8433\n",
       "0     PS-I      4651\n",
       "9     GM-I      4351\n",
       "42    M-II      3147\n",
       "45   CH-II      2730\n",
       "44   PH-II      2600\n",
       "7     MQ-I      2527\n",
       "8      U-I      2348\n",
       "46   PS-II      1985\n",
       "43   IC-II      1701"
      ]
     },
     "execution_count": 6,
     "metadata": {},
     "output_type": "execute_result"
    }
   ],
   "source": [
    "\n",
    "failed_subjects = df[df['Status'] == 'Fail']['REMARKS'].dropna().str.split(',')\n",
    "\n",
    "flat_subjects = [subject.strip() for sublist in failed_subjects for subject in sublist if subject.strip()]\n",
    "subject_failures = Counter(flat_subjects)\n",
    "\n",
    "subject_df = pd.DataFrame(subject_failures.items(), columns=['Subject', 'Failures']).sort_values(by='Failures', ascending=False)\n",
    "subject_df.head(15)\n"
   ]
  },
  {
   "cell_type": "code",
   "execution_count": 7,
   "id": "18cc1ada",
   "metadata": {},
   "outputs": [
    {
     "name": "stderr",
     "output_type": "stream",
     "text": [
      "C:\\Users\\ikram\\AppData\\Local\\Temp\\ipykernel_15336\\3483190184.py:2: FutureWarning: \n",
      "\n",
      "Passing `palette` without assigning `hue` is deprecated and will be removed in v0.14.0. Assign the `x` variable to `hue` and set `legend=False` for the same effect.\n",
      "\n",
      "  sns.barplot(data=subject_df.head(10), x='Subject', y='Failures', palette='Reds_r')\n"
     ]
    },
    {
     "data": {
      "image/png": "[encoded data removed]",
      "text/plain": [
       "<Figure size 1000x500 with 1 Axes>"
      ]
     },
     "metadata": {},
     "output_type": "display_data"
    }
   ],
   "source": [
    "\n",
    "plt.figure(figsize=(10,5))\n",
    "sns.barplot(data=subject_df.head(10), x='Subject', y='Failures', palette='Reds_r')\n",
    "plt.title(\"Top 10 Most Failed Subjects\")\n",
    "plt.xlabel(\"Subject Code\")\n",
    "plt.ylabel(\"Number of Failures\")\n",
    "plt.tight_layout()\n",
    "plt.show()\n"
   ]
  },
  {
   "cell_type": "code",
   "execution_count": 8,
   "id": "67dd44dc",
   "metadata": {},
   "outputs": [
    {
     "data": {
      "image/png": "[encoded data removed]",
      "text/plain": [
       "<Figure size 1000x800 with 1 Axes>"
      ]
     },
     "metadata": {},
     "output_type": "display_data"
    },
    {
     "name": "stdout",
     "output_type": "stream",
     "text": [
      "Highest Fails Remark: CH-I with a count of 19107\n"
     ]
    }
   ],
   "source": [
    "\n",
    "import numpy as np \n",
    "failed_subjects = df[df['Status'] == 'Fail']['REMARKS'].dropna().str.split(',')\n",
    "\n",
    "all_subjects = [sub.strip() for sublist in failed_subjects for sub in sublist if sub.strip()]\n",
    "\n",
    "subject_counts = Counter(all_subjects)\n",
    "\n",
    "fail_subject = pd.DataFrame(subject_counts.items(), columns=['REMARKS', 'count'])\n",
    "fail_subject = fail_subject.sort_values(by='count', ascending=False).reset_index(drop=True)\n",
    "\n",
    "top_10_counts = fail_subject['count'].head(10)\n",
    "top_10_remarks = fail_subject['REMARKS'].head(10)\n",
    "max_index = np.argmax(top_10_counts)\n",
    "\n",
    "explode = [0] * len(top_10_counts)\n",
    "explode[max_index] = 0.1\n",
    "\n",
    "plt.figure(figsize=(10, 8))\n",
    "wedge_props = {'width': 0.4, 'edgecolor': 'white'}\n",
    "\n",
    "plt.pie(\n",
    "    top_10_counts,\n",
    "    labels=top_10_remarks,\n",
    "    autopct=\"%1.0f%%\",\n",
    "    startangle=90,\n",
    "    colors=sns.color_palette('viridis', len(top_10_counts)),\n",
    "    pctdistance=0.85,\n",
    "    wedgeprops=wedge_props,\n",
    "    explode=explode\n",
    ")\n",
    "\n",
    "plt.title(\"TOP 10 Papers Fails\", fontsize=16)\n",
    "plt.axis('equal')  \n",
    "plt.tight_layout()\n",
    "plt.show()\n",
    "\n",
    "highest_remark = top_10_remarks.iloc[max_index]\n",
    "highest_count = top_10_counts.iloc[max_index]\n",
    "print(f\"Highest Fails Remark: {highest_remark} with a count of {highest_count}\")\n"
   ]
  },
  {
   "cell_type": "markdown",
   "id": "f9426191",
   "metadata": {},
   "source": [
    "### Top 10 Most Common Student Names\n",
    "This code shows the most frequently occurring student names in the Result:"
   ]
  },
  {
   "cell_type": "code",
   "execution_count": 9,
   "id": "ff07eef3",
   "metadata": {},
   "outputs": [
    {
     "data": {
      "text/html": [
       "<div>\n",
       "<style scoped>\n",
       "    .dataframe tbody tr th:only-of-type {\n",
       "        vertical-align: middle;\n",
       "    }\n",
       "\n",
       "    .dataframe tbody tr th {\n",
       "        vertical-align: top;\n",
       "    }\n",
       "\n",
       "    .dataframe thead th {\n",
       "        text-align: right;\n",
       "    }\n",
       "</style>\n",
       "<table border=\"1\" class=\"dataframe\">\n",
       "  <thead>\n",
       "    <tr style=\"text-align: right;\">\n",
       "      <th></th>\n",
       "      <th>NAME</th>\n",
       "      <th>count</th>\n",
       "    </tr>\n",
       "  </thead>\n",
       "  <tbody>\n",
       "    <tr>\n",
       "      <th>0</th>\n",
       "      <td>ABDULLAH</td>\n",
       "      <td>352</td>\n",
       "    </tr>\n",
       "    <tr>\n",
       "      <th>1</th>\n",
       "      <td>SALMAN KHAN</td>\n",
       "      <td>263</td>\n",
       "    </tr>\n",
       "    <tr>\n",
       "      <th>2</th>\n",
       "      <td>SUDAIS KHAN</td>\n",
       "      <td>224</td>\n",
       "    </tr>\n",
       "    <tr>\n",
       "      <th>3</th>\n",
       "      <td>HAMZA KHAN</td>\n",
       "      <td>224</td>\n",
       "    </tr>\n",
       "    <tr>\n",
       "      <th>4</th>\n",
       "      <td>UBAID ULLAH</td>\n",
       "      <td>218</td>\n",
       "    </tr>\n",
       "    <tr>\n",
       "      <th>5</th>\n",
       "      <td>SANA ULLAH</td>\n",
       "      <td>217</td>\n",
       "    </tr>\n",
       "    <tr>\n",
       "      <th>6</th>\n",
       "      <td>AWAIS KHAN</td>\n",
       "      <td>217</td>\n",
       "    </tr>\n",
       "    <tr>\n",
       "      <th>7</th>\n",
       "      <td>ABBAS KHAN</td>\n",
       "      <td>216</td>\n",
       "    </tr>\n",
       "    <tr>\n",
       "      <th>8</th>\n",
       "      <td>INAM ULLAH</td>\n",
       "      <td>212</td>\n",
       "    </tr>\n",
       "  </tbody>\n",
       "</table>\n",
       "</div>"
      ],
      "text/plain": [
       "          NAME  count\n",
       "0     ABDULLAH    352\n",
       "1  SALMAN KHAN    263\n",
       "2  SUDAIS KHAN    224\n",
       "3   HAMZA KHAN    224\n",
       "4  UBAID ULLAH    218\n",
       "5   SANA ULLAH    217\n",
       "6   AWAIS KHAN    217\n",
       "7   ABBAS KHAN    216\n",
       "8   INAM ULLAH    212"
      ]
     },
     "execution_count": 9,
     "metadata": {},
     "output_type": "execute_result"
    }
   ],
   "source": [
    "top_names = df['NAME'].value_counts().head(10).drop(\"NAME\")\n",
    "pd.DataFrame(top_names).reset_index()"
   ]
  },
  {
   "cell_type": "markdown",
   "id": "221fb910",
   "metadata": {},
   "source": [
    "## Faild Subject Count \n",
    "|ROLL_NO|NAME|FATHER_NAME|MARKS|GRADE|REMARKS|Status|Failed_Subject_Count|\n",
    "|---|---|---|---|---|---|---|---|\n",
    "|100001|JALWA BIBI\t|ALAM ZEB\t|NaN\t|NaN\t|PS-I,M-I,PH-I,CH-I,|\tFail|\t5.0|"
   ]
  },
  {
   "cell_type": "code",
   "execution_count": 10,
   "id": "36f6bd6b",
   "metadata": {},
   "outputs": [
    {
     "data": {
      "text/html": [
       "<div>\n",
       "<style scoped>\n",
       "    .dataframe tbody tr th:only-of-type {\n",
       "        vertical-align: middle;\n",
       "    }\n",
       "\n",
       "    .dataframe tbody tr th {\n",
       "        vertical-align: top;\n",
       "    }\n",
       "\n",
       "    .dataframe thead th {\n",
       "        text-align: right;\n",
       "    }\n",
       "</style>\n",
       "<table border=\"1\" class=\"dataframe\">\n",
       "  <thead>\n",
       "    <tr style=\"text-align: right;\">\n",
       "      <th></th>\n",
       "      <th>NAME</th>\n",
       "      <th>MARKS</th>\n",
       "      <th>Status</th>\n",
       "      <th>Failed_Subject_Count</th>\n",
       "    </tr>\n",
       "  </thead>\n",
       "  <tbody>\n",
       "    <tr>\n",
       "      <th>67690</th>\n",
       "      <td>IQRA NAZ</td>\n",
       "      <td>1079</td>\n",
       "      <td>Pass</td>\n",
       "      <td>NaN</td>\n",
       "    </tr>\n",
       "    <tr>\n",
       "      <th>25004</th>\n",
       "      <td>KHAISTA RAHMAN</td>\n",
       "      <td>NaN</td>\n",
       "      <td>Fail</td>\n",
       "      <td>9.0</td>\n",
       "    </tr>\n",
       "    <tr>\n",
       "      <th>11014</th>\n",
       "      <td>MUHAMMAD TALHA JAN</td>\n",
       "      <td>380</td>\n",
       "      <td>Pass</td>\n",
       "      <td>NaN</td>\n",
       "    </tr>\n",
       "    <tr>\n",
       "      <th>84487</th>\n",
       "      <td>Tasir Abbas</td>\n",
       "      <td>995</td>\n",
       "      <td>Pass</td>\n",
       "      <td>NaN</td>\n",
       "    </tr>\n",
       "    <tr>\n",
       "      <th>11831</th>\n",
       "      <td>HAMDAN AHMAD</td>\n",
       "      <td>NaN</td>\n",
       "      <td>Fail</td>\n",
       "      <td>6.0</td>\n",
       "    </tr>\n",
       "    <tr>\n",
       "      <th>80303</th>\n",
       "      <td>NAME</td>\n",
       "      <td>MARKS</td>\n",
       "      <td>Pass</td>\n",
       "      <td>1.0</td>\n",
       "    </tr>\n",
       "    <tr>\n",
       "      <th>97649</th>\n",
       "      <td>Azeem Khan</td>\n",
       "      <td>NaN</td>\n",
       "      <td>Fail</td>\n",
       "      <td>5.0</td>\n",
       "    </tr>\n",
       "    <tr>\n",
       "      <th>18961</th>\n",
       "      <td>MUSKAN</td>\n",
       "      <td>450</td>\n",
       "      <td>Pass</td>\n",
       "      <td>NaN</td>\n",
       "    </tr>\n",
       "    <tr>\n",
       "      <th>35750</th>\n",
       "      <td>SHAH HUSSAIN</td>\n",
       "      <td>424</td>\n",
       "      <td>Pass</td>\n",
       "      <td>NaN</td>\n",
       "    </tr>\n",
       "    <tr>\n",
       "      <th>52781</th>\n",
       "      <td>KHALOOD SHAH</td>\n",
       "      <td>850</td>\n",
       "      <td>Pass</td>\n",
       "      <td>NaN</td>\n",
       "    </tr>\n",
       "  </tbody>\n",
       "</table>\n",
       "</div>"
      ],
      "text/plain": [
       "                     NAME  MARKS Status  Failed_Subject_Count\n",
       "67690            IQRA NAZ   1079   Pass                   NaN\n",
       "25004      KHAISTA RAHMAN    NaN   Fail                   9.0\n",
       "11014  MUHAMMAD TALHA JAN    380   Pass                   NaN\n",
       "84487         Tasir Abbas    995   Pass                   NaN\n",
       "11831        HAMDAN AHMAD    NaN   Fail                   6.0\n",
       "80303                NAME  MARKS   Pass                   1.0\n",
       "97649          Azeem Khan    NaN   Fail                   5.0\n",
       "18961              MUSKAN    450   Pass                   NaN\n",
       "35750        SHAH HUSSAIN    424   Pass                   NaN\n",
       "52781        KHALOOD SHAH    850   Pass                   NaN"
      ]
     },
     "execution_count": 10,
     "metadata": {},
     "output_type": "execute_result"
    }
   ],
   "source": [
    "\n",
    "df['Failed_Subject_Count'] = df['REMARKS'].dropna().apply(lambda x: len(x.split(',')))\n",
    "df.drop([\"ROLL_NO\",\"FATHER_NAME\",\"GRADE\",\"REMARKS\"],axis=1).sample(10)"
   ]
  },
  {
   "cell_type": "code",
   "execution_count": 11,
   "id": "403fc745",
   "metadata": {},
   "outputs": [
    {
     "data": {
      "text/html": [
       "<div>\n",
       "<style scoped>\n",
       "    .dataframe tbody tr th:only-of-type {\n",
       "        vertical-align: middle;\n",
       "    }\n",
       "\n",
       "    .dataframe tbody tr th {\n",
       "        vertical-align: top;\n",
       "    }\n",
       "\n",
       "    .dataframe thead th {\n",
       "        text-align: right;\n",
       "    }\n",
       "</style>\n",
       "<table border=\"1\" class=\"dataframe\">\n",
       "  <thead>\n",
       "    <tr style=\"text-align: right;\">\n",
       "      <th>Status</th>\n",
       "      <th>Fail</th>\n",
       "      <th>Pass</th>\n",
       "    </tr>\n",
       "    <tr>\n",
       "      <th>Class_Level</th>\n",
       "      <th></th>\n",
       "      <th></th>\n",
       "    </tr>\n",
       "  </thead>\n",
       "  <tbody>\n",
       "    <tr>\n",
       "      <th>10th</th>\n",
       "      <td>14348.0</td>\n",
       "      <td>59593.0</td>\n",
       "    </tr>\n",
       "    <tr>\n",
       "      <th>9th</th>\n",
       "      <td>24841.0</td>\n",
       "      <td>NaN</td>\n",
       "    </tr>\n",
       "  </tbody>\n",
       "</table>\n",
       "</div>"
      ],
      "text/plain": [
       "Status          Fail     Pass\n",
       "Class_Level                  \n",
       "10th         14348.0  59593.0\n",
       "9th          24841.0      NaN"
      ]
     },
     "execution_count": 11,
     "metadata": {},
     "output_type": "execute_result"
    }
   ],
   "source": [
    "df['Class_Level'] = df['REMARKS'].apply(lambda x: '9th' if 'CH-I' in str(x) or 'PH-I' in str(x) else '10th')\n",
    "class_grouped = df.groupby(['Class_Level', 'Status']).size()\n",
    "class_grouped.unstack()"
   ]
  },
  {
   "cell_type": "markdown",
   "id": "fa6d0601",
   "metadata": {},
   "source": [
    "## Grade Summary"
   ]
  },
  {
   "cell_type": "markdown",
   "id": "344be00b",
   "metadata": {},
   "source": [
    "First we out the Grades of"
   ]
  },
  {
   "cell_type": "code",
   "execution_count": 12,
   "id": "cc7b8233",
   "metadata": {},
   "outputs": [
    {
     "data": {
      "text/plain": [
       "array([nan, 'B', 'C', 'A', 'GRADE', 'A1', 'D', 'E'], dtype=object)"
      ]
     },
     "execution_count": 12,
     "metadata": {},
     "output_type": "execute_result"
    }
   ],
   "source": [
    "df[\"GRADE\"].unique()"
   ]
  },
  {
   "cell_type": "markdown",
   "id": "3185a74f",
   "metadata": {},
   "source": [
    "### Students Who Got A1 Grade in SSC\n",
    "This code calculates the total number of students who received an A1 grade in the SSC exams:"
   ]
  },
  {
   "cell_type": "code",
   "execution_count": 13,
   "id": "73c46569",
   "metadata": {},
   "outputs": [
    {
     "name": "stdout",
     "output_type": "stream",
     "text": [
      "The Studets Got A1 Grade in SSC:  13615\n"
     ]
    }
   ],
   "source": [
    "A1 = df[df['GRADE']==\"A1\"].shape[0]\n",
    "print(\"The Studets Got A1 Grade in SSC: \",A1)"
   ]
  },
  {
   "cell_type": "markdown",
   "id": "26717015",
   "metadata": {},
   "source": [
    "### Students Who Got A Grade in SSC\n",
    "This code calculates the total number of students who received an A grade in the SSC exams:"
   ]
  },
  {
   "cell_type": "code",
   "execution_count": 14,
   "id": "bbd7c7d1",
   "metadata": {},
   "outputs": [
    {
     "name": "stdout",
     "output_type": "stream",
     "text": [
      "The Studets Got A Grade in SSC:  16653\n"
     ]
    }
   ],
   "source": [
    "A = df[df['GRADE']==\"A\"].shape[0]\n",
    "print(\"The Studets Got A Grade in SSC: \",A)"
   ]
  },
  {
   "cell_type": "markdown",
   "id": "f83591e6",
   "metadata": {},
   "source": [
    "### Students Who Got B Grade in SSC\n",
    "This code calculates the total number of students who received a B grade in the SSC exams:"
   ]
  },
  {
   "cell_type": "code",
   "execution_count": 15,
   "id": "f6e4bc29",
   "metadata": {},
   "outputs": [
    {
     "name": "stdout",
     "output_type": "stream",
     "text": [
      "The Studets Got B Grade in SSC:  15747\n"
     ]
    }
   ],
   "source": [
    "B = df[df['GRADE']==\"B\"].shape[0]\n",
    "print(\"The Studets Got B Grade in SSC: \",B)"
   ]
  },
  {
   "cell_type": "markdown",
   "id": "a0d8ed18",
   "metadata": {},
   "source": [
    "### Students Who Got C Grade in SSC\n",
    "This code calculates the total number of students who received a C grade in the SSC exams:"
   ]
  },
  {
   "cell_type": "code",
   "execution_count": 16,
   "id": "b412a962",
   "metadata": {},
   "outputs": [
    {
     "name": "stdout",
     "output_type": "stream",
     "text": [
      "The Studets Got C Grade in SSC:  10234\n"
     ]
    }
   ],
   "source": [
    "C = df[df['GRADE']==\"C\"].shape[0]\n",
    "print(\"The Studets Got C Grade in SSC: \",C)"
   ]
  },
  {
   "cell_type": "markdown",
   "id": "ab224e8a",
   "metadata": {},
   "source": [
    "### Students Who Got D Grade in SSC\n",
    "This code calculates the total number of students who received a D grade in the SSC exams:"
   ]
  },
  {
   "cell_type": "code",
   "execution_count": 17,
   "id": "2aaabecc",
   "metadata": {},
   "outputs": [
    {
     "name": "stdout",
     "output_type": "stream",
     "text": [
      "The Studets Got D Grade in SSC:  1580\n"
     ]
    }
   ],
   "source": [
    "D = df[df['GRADE']==\"D\"].shape[0]\n",
    "print(\"The Studets Got D Grade in SSC: \",D)\n"
   ]
  },
  {
   "cell_type": "markdown",
   "id": "800ed422",
   "metadata": {},
   "source": [
    "### Students Who Got E Grade in SSC\n",
    "This code calculates the total number of students who received an E grade in the SSC exams:"
   ]
  },
  {
   "cell_type": "code",
   "execution_count": 18,
   "id": "b1a85900",
   "metadata": {},
   "outputs": [
    {
     "name": "stdout",
     "output_type": "stream",
     "text": [
      "The Studets Got C Grade in SSC:  1\n"
     ]
    },
    {
     "data": {
      "text/html": [
       "<div>\n",
       "<style scoped>\n",
       "    .dataframe tbody tr th:only-of-type {\n",
       "        vertical-align: middle;\n",
       "    }\n",
       "\n",
       "    .dataframe tbody tr th {\n",
       "        vertical-align: top;\n",
       "    }\n",
       "\n",
       "    .dataframe thead th {\n",
       "        text-align: right;\n",
       "    }\n",
       "</style>\n",
       "<table border=\"1\" class=\"dataframe\">\n",
       "  <thead>\n",
       "    <tr style=\"text-align: right;\">\n",
       "      <th></th>\n",
       "      <th>ROLL_NO</th>\n",
       "      <th>NAME</th>\n",
       "      <th>FATHER_NAME</th>\n",
       "      <th>MARKS</th>\n",
       "      <th>GRADE</th>\n",
       "      <th>REMARKS</th>\n",
       "      <th>Status</th>\n",
       "      <th>Failed_Subject_Count</th>\n",
       "      <th>Class_Level</th>\n",
       "    </tr>\n",
       "  </thead>\n",
       "  <tbody>\n",
       "    <tr>\n",
       "      <th>98149</th>\n",
       "      <td>283334</td>\n",
       "      <td>ABDULLAH KHAN</td>\n",
       "      <td>MUHAMMAD ZAMIN KHAN</td>\n",
       "      <td>424</td>\n",
       "      <td>E</td>\n",
       "      <td>MNI</td>\n",
       "      <td>Pass</td>\n",
       "      <td>1.0</td>\n",
       "      <td>10th</td>\n",
       "    </tr>\n",
       "  </tbody>\n",
       "</table>\n",
       "</div>"
      ],
      "text/plain": [
       "      ROLL_NO           NAME          FATHER_NAME MARKS GRADE REMARKS Status  \\\n",
       "98149  283334  ABDULLAH KHAN  MUHAMMAD ZAMIN KHAN   424     E     MNI   Pass   \n",
       "\n",
       "       Failed_Subject_Count Class_Level  \n",
       "98149                   1.0        10th  "
      ]
     },
     "execution_count": 18,
     "metadata": {},
     "output_type": "execute_result"
    }
   ],
   "source": [
    "E = df[df['GRADE']==\"E\"].shape[0]\n",
    "print(\"The Studets Got C Grade in SSC: \",E)\n",
    "df[df['GRADE']==\"E\"]"
   ]
  },
  {
   "cell_type": "code",
   "execution_count": 42,
   "id": "ecc5bcfa",
   "metadata": {},
   "outputs": [
    {
     "name": "stdout",
     "output_type": "stream",
     "text": [
      "The Number of student appear  in the fail SSC:  39189\n"
     ]
    }
   ],
   "source": [
    "fail = df[df['GRADE'].isin([np.nan])].shape[0]\n",
    "print(\"The Number of student appear  in the fail SSC: \",fail)"
   ]
  },
  {
   "cell_type": "markdown",
   "id": "348ea270",
   "metadata": {},
   "source": [
    "### Distribution of Failed Subject Counts\n",
    "This code creates a DataFrame showing how many students failed a specific number of subjects (e.g., how many students failed 1 subject, 2 subjects, up to the maximum). It sorts the counts in ascending order:"
   ]
  },
  {
   "cell_type": "code",
   "execution_count": 20,
   "id": "af0d1328",
   "metadata": {},
   "outputs": [
    {
     "data": {
      "text/html": [
       "<div>\n",
       "<style scoped>\n",
       "    .dataframe tbody tr th:only-of-type {\n",
       "        vertical-align: middle;\n",
       "    }\n",
       "\n",
       "    .dataframe tbody tr th {\n",
       "        vertical-align: top;\n",
       "    }\n",
       "\n",
       "    .dataframe thead th {\n",
       "        text-align: right;\n",
       "    }\n",
       "</style>\n",
       "<table border=\"1\" class=\"dataframe\">\n",
       "  <thead>\n",
       "    <tr style=\"text-align: right;\">\n",
       "      <th></th>\n",
       "      <th>Failed_Subject_Count</th>\n",
       "      <th>count</th>\n",
       "    </tr>\n",
       "  </thead>\n",
       "  <tbody>\n",
       "    <tr>\n",
       "      <th>0</th>\n",
       "      <td>9.0</td>\n",
       "      <td>378</td>\n",
       "    </tr>\n",
       "    <tr>\n",
       "      <th>1</th>\n",
       "      <td>10.0</td>\n",
       "      <td>640</td>\n",
       "    </tr>\n",
       "    <tr>\n",
       "      <th>2</th>\n",
       "      <td>8.0</td>\n",
       "      <td>821</td>\n",
       "    </tr>\n",
       "    <tr>\n",
       "      <th>3</th>\n",
       "      <td>7.0</td>\n",
       "      <td>1697</td>\n",
       "    </tr>\n",
       "    <tr>\n",
       "      <th>4</th>\n",
       "      <td>6.0</td>\n",
       "      <td>2494</td>\n",
       "    </tr>\n",
       "    <tr>\n",
       "      <th>5</th>\n",
       "      <td>1.0</td>\n",
       "      <td>2658</td>\n",
       "    </tr>\n",
       "    <tr>\n",
       "      <th>6</th>\n",
       "      <td>5.0</td>\n",
       "      <td>3975</td>\n",
       "    </tr>\n",
       "    <tr>\n",
       "      <th>7</th>\n",
       "      <td>4.0</td>\n",
       "      <td>5720</td>\n",
       "    </tr>\n",
       "    <tr>\n",
       "      <th>8</th>\n",
       "      <td>3.0</td>\n",
       "      <td>8388</td>\n",
       "    </tr>\n",
       "    <tr>\n",
       "      <th>9</th>\n",
       "      <td>2.0</td>\n",
       "      <td>14549</td>\n",
       "    </tr>\n",
       "  </tbody>\n",
       "</table>\n",
       "</div>"
      ],
      "text/plain": [
       "   Failed_Subject_Count  count\n",
       "0                   9.0    378\n",
       "1                  10.0    640\n",
       "2                   8.0    821\n",
       "3                   7.0   1697\n",
       "4                   6.0   2494\n",
       "5                   1.0   2658\n",
       "6                   5.0   3975\n",
       "7                   4.0   5720\n",
       "8                   3.0   8388\n",
       "9                   2.0  14549"
      ]
     },
     "execution_count": 20,
     "metadata": {},
     "output_type": "execute_result"
    }
   ],
   "source": [
    "Failed_Subject_Count= pd.DataFrame(df['Failed_Subject_Count'].value_counts(ascending=True)).reset_index()\n",
    "Failed_Subject_Count"
   ]
  },
  {
   "cell_type": "code",
   "execution_count": null,
   "id": "1aacf977",
   "metadata": {},
   "outputs": [
    {
     "data": {
      "image/png": "[encoded data removed]",
      "text/plain": [
       "<Figure size 1000x800 with 1 Axes>"
      ]
     },
     "metadata": {},
     "output_type": "display_data"
    }
   ],
   "source": [
    "no_of_subject_Fail = Failed_Subject_Count['count']\n",
    "no_of_subject_label  = Failed_Subject_Count['Failed_Subject_Count']\n",
    "max_index = np.argmax(no_of_subject_Fail)\n",
    "\n",
    "plt.figure(figsize=(10, 8))\n",
    "wedge_props = {'width': 0.4, 'edgecolor': 'white'}\n",
    "\n",
    "plt.pie(\n",
    "    no_of_subject_Fail,\n",
    "    labels=[9.0, 10.0, 8.0, 7.0, 6.0, 1.0, 5.0, 4, 3, 2],\n",
    "    autopct=\"%1.0f%%\",\n",
    "    startangle=90,\n",
    "    colors=sns.color_palette('viridis', len(no_of_subject_Fail)),\n",
    "    pctdistance=0.85,\n",
    "    wedgeprops=wedge_props,\n",
    "    \n",
    ")\n",
    "\n",
    "plt.title(\"Most Paper Appear\", fontsize=20,loc=\"left\")\n",
    "plt.axis('equal')  \n",
    "plt.tight_layout()\n",
    "plt.show()\n",
    "\n"
   ]
  },
  {
   "cell_type": "markdown",
   "id": "4a746bdf",
   "metadata": {},
   "source": [
    "### 462 Students Failed Ten Subjects in 9th Class\n",
    "This code filters the students from Class 9 who failed exactly 10 subjects, drops unnecessary columns, and displays the top 10 entries:"
   ]
  },
  {
   "cell_type": "code",
   "execution_count": null,
   "id": "34dfeabb",
   "metadata": {},
   "outputs": [
    {
     "name": "stdout",
     "output_type": "stream",
     "text": [
      "9th class 462 student fail ten subject\n"
     ]
    },
    {
     "data": {
      "text/html": [
       "<div>\n",
       "<style scoped>\n",
       "    .dataframe tbody tr th:only-of-type {\n",
       "        vertical-align: middle;\n",
       "    }\n",
       "\n",
       "    .dataframe tbody tr th {\n",
       "        vertical-align: top;\n",
       "    }\n",
       "\n",
       "    .dataframe thead th {\n",
       "        text-align: right;\n",
       "    }\n",
       "</style>\n",
       "<table border=\"1\" class=\"dataframe\">\n",
       "  <thead>\n",
       "    <tr style=\"text-align: right;\">\n",
       "      <th></th>\n",
       "      <th>ROLL_NO</th>\n",
       "      <th>REMARKS</th>\n",
       "      <th>Status</th>\n",
       "      <th>Failed_Subject_Count</th>\n",
       "      <th>Class_Level</th>\n",
       "    </tr>\n",
       "  </thead>\n",
       "  <tbody>\n",
       "    <tr>\n",
       "      <th>24</th>\n",
       "      <td>100025</td>\n",
       "      <td>E-I,IC-I,PS-I,M-I,MQ-I,PH-I,CH-I,BIO-1,U-I,</td>\n",
       "      <td>Fail</td>\n",
       "      <td>10.0</td>\n",
       "      <td>9th</td>\n",
       "    </tr>\n",
       "    <tr>\n",
       "      <th>137</th>\n",
       "      <td>100141</td>\n",
       "      <td>E-I,IC-I,PS-I,M-I,MQ-I,PH-I,CH-I,BIO-1,U-I,</td>\n",
       "      <td>Fail</td>\n",
       "      <td>10.0</td>\n",
       "      <td>9th</td>\n",
       "    </tr>\n",
       "    <tr>\n",
       "      <th>169</th>\n",
       "      <td>100172</td>\n",
       "      <td>E-I,IC-I,PS-I,M-I,MQ-I,PH-I,CH-I,BIO-1,U-I,</td>\n",
       "      <td>Fail</td>\n",
       "      <td>10.0</td>\n",
       "      <td>9th</td>\n",
       "    </tr>\n",
       "    <tr>\n",
       "      <th>207</th>\n",
       "      <td>100217</td>\n",
       "      <td>E-I,IC-I,PS-I,M-I,MQ-I,PH-I,CH-I,BIO-1,U-I,</td>\n",
       "      <td>Fail</td>\n",
       "      <td>10.0</td>\n",
       "      <td>9th</td>\n",
       "    </tr>\n",
       "    <tr>\n",
       "      <th>413</th>\n",
       "      <td>100432</td>\n",
       "      <td>E-I,IC-I,PS-I,M-I,MQ-I,PH-I,CH-I,BIO-1,U-I,</td>\n",
       "      <td>Fail</td>\n",
       "      <td>10.0</td>\n",
       "      <td>9th</td>\n",
       "    </tr>\n",
       "    <tr>\n",
       "      <th>545</th>\n",
       "      <td>100566</td>\n",
       "      <td>E-I,IC-I,PS-I,M-I,MQ-I,PH-I,CH-I,BIO-1,U-I,</td>\n",
       "      <td>Fail</td>\n",
       "      <td>10.0</td>\n",
       "      <td>9th</td>\n",
       "    </tr>\n",
       "    <tr>\n",
       "      <th>1075</th>\n",
       "      <td>101106</td>\n",
       "      <td>E-I,IC-I,PS-I,M-I,MQ-I,PH-I,CH-I,BIO-1,U-I,</td>\n",
       "      <td>Fail</td>\n",
       "      <td>10.0</td>\n",
       "      <td>9th</td>\n",
       "    </tr>\n",
       "    <tr>\n",
       "      <th>1094</th>\n",
       "      <td>101125</td>\n",
       "      <td>E-I,IC-I,PS-I,M-I,MQ-I,PH-I,CH-I,BIO-1,U-I,</td>\n",
       "      <td>Fail</td>\n",
       "      <td>10.0</td>\n",
       "      <td>9th</td>\n",
       "    </tr>\n",
       "  </tbody>\n",
       "</table>\n",
       "</div>"
      ],
      "text/plain": [
       "     ROLL_NO                                      REMARKS Status  \\\n",
       "24    100025  E-I,IC-I,PS-I,M-I,MQ-I,PH-I,CH-I,BIO-1,U-I,   Fail   \n",
       "137   100141  E-I,IC-I,PS-I,M-I,MQ-I,PH-I,CH-I,BIO-1,U-I,   Fail   \n",
       "169   100172  E-I,IC-I,PS-I,M-I,MQ-I,PH-I,CH-I,BIO-1,U-I,   Fail   \n",
       "207   100217  E-I,IC-I,PS-I,M-I,MQ-I,PH-I,CH-I,BIO-1,U-I,   Fail   \n",
       "413   100432  E-I,IC-I,PS-I,M-I,MQ-I,PH-I,CH-I,BIO-1,U-I,   Fail   \n",
       "545   100566  E-I,IC-I,PS-I,M-I,MQ-I,PH-I,CH-I,BIO-1,U-I,   Fail   \n",
       "1075  101106  E-I,IC-I,PS-I,M-I,MQ-I,PH-I,CH-I,BIO-1,U-I,   Fail   \n",
       "1094  101125  E-I,IC-I,PS-I,M-I,MQ-I,PH-I,CH-I,BIO-1,U-I,   Fail   \n",
       "\n",
       "      Failed_Subject_Count Class_Level  \n",
       "24                    10.0         9th  \n",
       "137                   10.0         9th  \n",
       "169                   10.0         9th  \n",
       "207                   10.0         9th  \n",
       "413                   10.0         9th  \n",
       "545                   10.0         9th  \n",
       "1075                  10.0         9th  \n",
       "1094                  10.0         9th  "
      ]
     },
     "execution_count": 23,
     "metadata": {},
     "output_type": "execute_result"
    }
   ],
   "source": [
    "print(\"9th class 462 student fail ten subject\")\n",
    "top_ten_student_fail_in_9th= df[df['Failed_Subject_Count']==10].drop([\"NAME\"\t,\"FATHER_NAME\"\t,\"MARKS\"\t,\"GRADE\"],axis=1).head(10)\n",
    "top_ten_student_fail_in_9th[top_ten_student_fail_in_9th[\"Class_Level\"]== \"9th\"]"
   ]
  },
  {
   "cell_type": "markdown",
   "id": "fa0eb34f",
   "metadata": {},
   "source": [
    "### Two Students Who Failed Ten Subjects in Class 10\n",
    "This code filters the students who failed exactly 10 subjects and were in Class 10, then displays their details (excluding name, father name, marks, and grade):"
   ]
  },
  {
   "cell_type": "code",
   "execution_count": 40,
   "id": "e4e3e810",
   "metadata": {},
   "outputs": [
    {
     "name": "stdout",
     "output_type": "stream",
     "text": [
      "Two students failed ten subjects in class 10:\n"
     ]
    },
    {
     "data": {
      "text/html": [
       "<div>\n",
       "<style scoped>\n",
       "    .dataframe tbody tr th:only-of-type {\n",
       "        vertical-align: middle;\n",
       "    }\n",
       "\n",
       "    .dataframe tbody tr th {\n",
       "        vertical-align: top;\n",
       "    }\n",
       "\n",
       "    .dataframe thead th {\n",
       "        text-align: right;\n",
       "    }\n",
       "</style>\n",
       "<table border=\"1\" class=\"dataframe\">\n",
       "  <thead>\n",
       "    <tr style=\"text-align: right;\">\n",
       "      <th></th>\n",
       "      <th>ROLL_NO</th>\n",
       "      <th>REMARKS</th>\n",
       "      <th>Status</th>\n",
       "      <th>Failed_Subject_Count</th>\n",
       "      <th>Class_Level</th>\n",
       "    </tr>\n",
       "  </thead>\n",
       "  <tbody>\n",
       "    <tr>\n",
       "      <th>802</th>\n",
       "      <td>100828</td>\n",
       "      <td>E-I,IC-I,PS-I,GS-I,MQ-I,IS-I,PA-I,U-I,GM-I,</td>\n",
       "      <td>Fail</td>\n",
       "      <td>10.0</td>\n",
       "      <td>10th</td>\n",
       "    </tr>\n",
       "    <tr>\n",
       "      <th>832</th>\n",
       "      <td>100858</td>\n",
       "      <td>E-I,IC-I,PS-I,GS-I,MQ-I,IS-I,PA-I,U-I,GM-I,</td>\n",
       "      <td>Fail</td>\n",
       "      <td>10.0</td>\n",
       "      <td>10th</td>\n",
       "    </tr>\n",
       "  </tbody>\n",
       "</table>\n",
       "</div>"
      ],
      "text/plain": [
       "    ROLL_NO                                      REMARKS Status  \\\n",
       "802  100828  E-I,IC-I,PS-I,GS-I,MQ-I,IS-I,PA-I,U-I,GM-I,   Fail   \n",
       "832  100858  E-I,IC-I,PS-I,GS-I,MQ-I,IS-I,PA-I,U-I,GM-I,   Fail   \n",
       "\n",
       "     Failed_Subject_Count Class_Level  \n",
       "802                  10.0        10th  \n",
       "832                  10.0        10th  "
      ]
     },
     "execution_count": 40,
     "metadata": {},
     "output_type": "execute_result"
    }
   ],
   "source": [
    "print(\"Two students failed ten subjects in class 10:\")\n",
    "\n",
    "top_student_fail_in_10th = df[df['Failed_Subject_Count'] == 10] \\\n",
    "    .drop([\"NAME\", \"FATHER_NAME\", \"MARKS\", \"GRADE\"], axis=1) \\\n",
    "    .head(10)\n",
    "\n",
    "top_student_fail_in_10th[top_student_fail_in_10th[\"Class_Level\"] == \"10th\"]\n"
   ]
  },
  {
   "cell_type": "markdown",
   "id": "c6ed0d60",
   "metadata": {},
   "source": [
    "### Chart for Grade "
   ]
  },
  {
   "cell_type": "code",
   "execution_count": 33,
   "id": "c805826e",
   "metadata": {},
   "outputs": [
    {
     "data": {
      "image/png": "[encoded data removed]",
      "text/plain": [
       "<Figure size 1000x800 with 1 Axes>"
      ]
     },
     "metadata": {},
     "output_type": "display_data"
    }
   ],
   "source": [
    "\n",
    "total_Grade = [A1,A,B,C,D,E,fail]\n",
    "grade_label = [\"A1\",\"A\",\"B\",\"C\",\"D\",\"E\",\"Fail\"]\n",
    "\n",
    "\n",
    "\n",
    "\n",
    "max_index = np.argmax(total_Grade)\n",
    "\n",
    "explode = [0] * len(total_Grade)\n",
    "explode[max_index] = 0.1\n",
    "\n",
    "plt.figure(figsize=(10, 8))\n",
    "wedge_props = {'width': 0.4, 'edgecolor': 'white'}\n",
    "\n",
    "plt.pie(\n",
    "    total_Grade,\n",
    "    labels=grade_label,\n",
    "    autopct=\"%1.0f%%\",\n",
    "    startangle=90,\n",
    "    colors=sns.color_palette('viridis', len(top_10_counts)),\n",
    "    pctdistance=0.9,\n",
    "    wedgeprops=wedge_props,\n",
    "    explode=explode\n",
    ")\n",
    "\n",
    "plt.title(\"TOP 10 Papers Fails\", fontsize=20,loc=\"left\")\n",
    "plt.axis('equal')  \n",
    "plt.tight_layout()\n",
    "plt.show()\n",
    "\n"
   ]
  },
  {
   "cell_type": "markdown",
   "id": "5a40ee86",
   "metadata": {},
   "source": [
    "### Fine Student\n",
    "> This section modifies the REMARKS column in the fine DataFrame to extract the last element from the comma-separated values in each row. This step focuses on identifying students who were fined, as the last element in the REMARKS column likely contains fine-related information. The processed data will help analyze the fines imposed on students for specific reasons."
   ]
  },
  {
   "cell_type": "code",
   "execution_count": 26,
   "id": "bd9d749f",
   "metadata": {},
   "outputs": [
    {
     "name": "stderr",
     "output_type": "stream",
     "text": [
      "C:\\Users\\ikram\\AppData\\Local\\Temp\\ipykernel_15336\\93648856.py:2: FutureWarning: A value is trying to be set on a copy of a DataFrame or Series through chained assignment using an inplace method.\n",
      "The behavior will change in pandas 3.0. This inplace method will never work because the intermediate object on which we are setting values always behaves as a copy.\n",
      "\n",
      "For example, when doing 'df[col].method(value, inplace=True)', try using 'df.method({col: value}, inplace=True)' or df[col] = df[col].method(value) instead, to perform the operation inplace on the original object.\n",
      "\n",
      "\n",
      "  fine['REMARKS'].fillna(0,inplace=True)\n",
      "C:\\Users\\ikram\\AppData\\Local\\Temp\\ipykernel_15336\\93648856.py:2: SettingWithCopyWarning: \n",
      "A value is trying to be set on a copy of a slice from a DataFrame\n",
      "\n",
      "See the caveats in the documentation: https://pandas.pydata.org/pandas-docs/stable/user_guide/indexing.html#returning-a-view-versus-a-copy\n",
      "  fine['REMARKS'].fillna(0,inplace=True)\n"
     ]
    }
   ],
   "source": [
    "fine = df[df['REMARKS'].str.contains(\"RS\",na=True,case=True,)]\n",
    "fine['REMARKS'].fillna(0,inplace=True)\n",
    "fine = fine[fine['REMARKS'] !=0]\n"
   ]
  },
  {
   "cell_type": "code",
   "execution_count": 27,
   "id": "0eac3ca7",
   "metadata": {},
   "outputs": [],
   "source": [
    "fine['REMARKS'] = fine['REMARKS'].str.split(\",\").str.get(-1)"
   ]
  },
  {
   "cell_type": "code",
   "execution_count": 28,
   "id": "128a9068",
   "metadata": {},
   "outputs": [
    {
     "data": {
      "text/html": [
       "<div>\n",
       "<style scoped>\n",
       "    .dataframe tbody tr th:only-of-type {\n",
       "        vertical-align: middle;\n",
       "    }\n",
       "\n",
       "    .dataframe tbody tr th {\n",
       "        vertical-align: top;\n",
       "    }\n",
       "\n",
       "    .dataframe thead th {\n",
       "        text-align: right;\n",
       "    }\n",
       "</style>\n",
       "<table border=\"1\" class=\"dataframe\">\n",
       "  <thead>\n",
       "    <tr style=\"text-align: right;\">\n",
       "      <th></th>\n",
       "      <th>ROLL_NO</th>\n",
       "      <th>NAME</th>\n",
       "      <th>REMARKS</th>\n",
       "      <th>Class_Level</th>\n",
       "    </tr>\n",
       "  </thead>\n",
       "  <tbody>\n",
       "    <tr>\n",
       "      <th>50182</th>\n",
       "      <td>182716</td>\n",
       "      <td>HAZRAT USMAN</td>\n",
       "      <td>Fee Receipt RS: 2200/-</td>\n",
       "      <td>10th</td>\n",
       "    </tr>\n",
       "    <tr>\n",
       "      <th>56416</th>\n",
       "      <td>206853</td>\n",
       "      <td>Laiba Syed</td>\n",
       "      <td>DUES RS:2500 LATE IMP/-</td>\n",
       "      <td>10th</td>\n",
       "    </tr>\n",
       "    <tr>\n",
       "      <th>98596</th>\n",
       "      <td>283776</td>\n",
       "      <td>UZMA ALI</td>\n",
       "      <td>ORG RS:4700/-</td>\n",
       "      <td>10th</td>\n",
       "    </tr>\n",
       "    <tr>\n",
       "      <th>98654</th>\n",
       "      <td>283833</td>\n",
       "      <td>JAWERIA AHMAD</td>\n",
       "      <td>Exam FEE RS:5100/-</td>\n",
       "      <td>9th</td>\n",
       "    </tr>\n",
       "    <tr>\n",
       "      <th>98772</th>\n",
       "      <td>283953</td>\n",
       "      <td>MUSKAN</td>\n",
       "      <td>LET OFF FINED RS.1500/-</td>\n",
       "      <td>10th</td>\n",
       "    </tr>\n",
       "  </tbody>\n",
       "</table>\n",
       "</div>"
      ],
      "text/plain": [
       "      ROLL_NO           NAME                  REMARKS Class_Level\n",
       "50182  182716   HAZRAT USMAN   Fee Receipt RS: 2200/-        10th\n",
       "56416  206853     Laiba Syed  DUES RS:2500 LATE IMP/-        10th\n",
       "98596  283776       UZMA ALI            ORG RS:4700/-        10th\n",
       "98654  283833  JAWERIA AHMAD       Exam FEE RS:5100/-         9th\n",
       "98772  283953         MUSKAN  LET OFF FINED RS.1500/-        10th"
      ]
     },
     "execution_count": 28,
     "metadata": {},
     "output_type": "execute_result"
    }
   ],
   "source": [
    "fine.drop([\"FATHER_NAME\",\"MARKS\",\t\"GRADE\",\t\"Status\",\t\"Failed_Subject_Count\",],axis=1)"
   ]
  },
  {
   "cell_type": "markdown",
   "id": "1e02ddd3",
   "metadata": {},
   "source": [
    "### Cancel Exam And Paper\n",
    ">This section filters the DataFrame to find students whose exam records were canceled, as indicated by the term \"Cancel\" in the REMARKS column. It handles missing values in REMARKS by replacing them with 0 and then excludes any rows where REMARKS is 0, ensuring only relevant cancellation records are retained for further analysis."
   ]
  },
  {
   "cell_type": "code",
   "execution_count": 29,
   "id": "4c869c80",
   "metadata": {},
   "outputs": [
    {
     "name": "stderr",
     "output_type": "stream",
     "text": [
      "C:\\Users\\ikram\\AppData\\Local\\Temp\\ipykernel_15336\\2923601501.py:2: FutureWarning: A value is trying to be set on a copy of a DataFrame or Series through chained assignment using an inplace method.\n",
      "The behavior will change in pandas 3.0. This inplace method will never work because the intermediate object on which we are setting values always behaves as a copy.\n",
      "\n",
      "For example, when doing 'df[col].method(value, inplace=True)', try using 'df.method({col: value}, inplace=True)' or df[col] = df[col].method(value) instead, to perform the operation inplace on the original object.\n",
      "\n",
      "\n",
      "  Cancel['REMARKS'].fillna(0,inplace=True)\n",
      "C:\\Users\\ikram\\AppData\\Local\\Temp\\ipykernel_15336\\2923601501.py:2: SettingWithCopyWarning: \n",
      "A value is trying to be set on a copy of a slice from a DataFrame\n",
      "\n",
      "See the caveats in the documentation: https://pandas.pydata.org/pandas-docs/stable/user_guide/indexing.html#returning-a-view-versus-a-copy\n",
      "  Cancel['REMARKS'].fillna(0,inplace=True)\n"
     ]
    }
   ],
   "source": [
    "Cancel = df[df['REMARKS'].str.contains(\"Cancel\",na=True,case=True,)]\n",
    "Cancel['REMARKS'].fillna(0,inplace=True)\n",
    "Cancel = Cancel[Cancel['REMARKS'] !=0]\n"
   ]
  },
  {
   "cell_type": "code",
   "execution_count": 39,
   "id": "392eb9d1",
   "metadata": {},
   "outputs": [
    {
     "data": {
      "text/html": [
       "<div>\n",
       "<style scoped>\n",
       "    .dataframe tbody tr th:only-of-type {\n",
       "        vertical-align: middle;\n",
       "    }\n",
       "\n",
       "    .dataframe tbody tr th {\n",
       "        vertical-align: top;\n",
       "    }\n",
       "\n",
       "    .dataframe thead th {\n",
       "        text-align: right;\n",
       "    }\n",
       "</style>\n",
       "<table border=\"1\" class=\"dataframe\">\n",
       "  <thead>\n",
       "    <tr style=\"text-align: right;\">\n",
       "      <th></th>\n",
       "      <th>ROLL_NO</th>\n",
       "      <th>NAME</th>\n",
       "      <th>REMARKS</th>\n",
       "      <th>Class_Level</th>\n",
       "    </tr>\n",
       "  </thead>\n",
       "  <tbody>\n",
       "    <tr>\n",
       "      <th>8632</th>\n",
       "      <td>125750</td>\n",
       "      <td>TAWHEED BIBI</td>\n",
       "      <td>Four Exam: Cancelled</td>\n",
       "      <td>10th</td>\n",
       "    </tr>\n",
       "    <tr>\n",
       "      <th>18502</th>\n",
       "      <td>136237</td>\n",
       "      <td>FARYAL ISMAIL</td>\n",
       "      <td>One Exam: Cancelled</td>\n",
       "      <td>10th</td>\n",
       "    </tr>\n",
       "    <tr>\n",
       "      <th>34699</th>\n",
       "      <td>152727</td>\n",
       "      <td>ASAD KHAN</td>\n",
       "      <td>One Exam: Cancelled</td>\n",
       "      <td>10th</td>\n",
       "    </tr>\n",
       "    <tr>\n",
       "      <th>43184</th>\n",
       "      <td>161491</td>\n",
       "      <td>ASAD ULLAH KHAN</td>\n",
       "      <td>Four Exam: Cancelled</td>\n",
       "      <td>10th</td>\n",
       "    </tr>\n",
       "    <tr>\n",
       "      <th>49149</th>\n",
       "      <td>181694</td>\n",
       "      <td>SYED TAWAKKAL KHAN</td>\n",
       "      <td>Six Exam: Cancelled</td>\n",
       "      <td>10th</td>\n",
       "    </tr>\n",
       "    <tr>\n",
       "      <th>57734</th>\n",
       "      <td>220395</td>\n",
       "      <td>haseena bibi</td>\n",
       "      <td>Four Exam: Cancelled</td>\n",
       "      <td>10th</td>\n",
       "    </tr>\n",
       "    <tr>\n",
       "      <th>84608</th>\n",
       "      <td>249159</td>\n",
       "      <td>SALAR KHAN</td>\n",
       "      <td>Six Exam: Cancelled</td>\n",
       "      <td>10th</td>\n",
       "    </tr>\n",
       "    <tr>\n",
       "      <th>86662</th>\n",
       "      <td>251283</td>\n",
       "      <td>Ibad Ullah</td>\n",
       "      <td>Six Exam: Cancelled</td>\n",
       "      <td>10th</td>\n",
       "    </tr>\n",
       "    <tr>\n",
       "      <th>91206</th>\n",
       "      <td>256295</td>\n",
       "      <td>ANSAR FAROOQ</td>\n",
       "      <td>Paper Cancelled with fine 1500</td>\n",
       "      <td>10th</td>\n",
       "    </tr>\n",
       "    <tr>\n",
       "      <th>92507</th>\n",
       "      <td>257699</td>\n",
       "      <td>IRFAN ALI</td>\n",
       "      <td>One Exam: Cancelled</td>\n",
       "      <td>10th</td>\n",
       "    </tr>\n",
       "    <tr>\n",
       "      <th>92543</th>\n",
       "      <td>257734</td>\n",
       "      <td>SHAFI UR RAHMAN</td>\n",
       "      <td>One Exam: Cancelled</td>\n",
       "      <td>10th</td>\n",
       "    </tr>\n",
       "    <tr>\n",
       "      <th>96863</th>\n",
       "      <td>282071</td>\n",
       "      <td>GAUHAR RAHMAN</td>\n",
       "      <td>Six Exam: Cancelled</td>\n",
       "      <td>10th</td>\n",
       "    </tr>\n",
       "    <tr>\n",
       "      <th>98697</th>\n",
       "      <td>283875</td>\n",
       "      <td>SAYYAR KHAN</td>\n",
       "      <td>Five Exam: Cancelled</td>\n",
       "      <td>10th</td>\n",
       "    </tr>\n",
       "  </tbody>\n",
       "</table>\n",
       "</div>"
      ],
      "text/plain": [
       "      ROLL_NO                NAME                         REMARKS Class_Level\n",
       "8632   125750        TAWHEED BIBI            Four Exam: Cancelled        10th\n",
       "18502  136237       FARYAL ISMAIL             One Exam: Cancelled        10th\n",
       "34699  152727           ASAD KHAN             One Exam: Cancelled        10th\n",
       "43184  161491     ASAD ULLAH KHAN            Four Exam: Cancelled        10th\n",
       "49149  181694  SYED TAWAKKAL KHAN             Six Exam: Cancelled        10th\n",
       "57734  220395        haseena bibi            Four Exam: Cancelled        10th\n",
       "84608  249159          SALAR KHAN             Six Exam: Cancelled        10th\n",
       "86662  251283          Ibad Ullah             Six Exam: Cancelled        10th\n",
       "91206  256295        ANSAR FAROOQ  Paper Cancelled with fine 1500        10th\n",
       "92507  257699           IRFAN ALI             One Exam: Cancelled        10th\n",
       "92543  257734     SHAFI UR RAHMAN             One Exam: Cancelled        10th\n",
       "96863  282071       GAUHAR RAHMAN             Six Exam: Cancelled        10th\n",
       "98697  283875         SAYYAR KHAN            Five Exam: Cancelled        10th"
      ]
     },
     "execution_count": 39,
     "metadata": {},
     "output_type": "execute_result"
    }
   ],
   "source": [
    "Cancel.drop([\"Failed_Subject_Count\",\"FATHER_NAME\",\"MARKS\",\"GRADE\",\"Status\"],axis=1)"
   ]
  },
  {
   "cell_type": "code",
   "execution_count": null,
   "id": "9bd798f2",
   "metadata": {},
   "outputs": [],
   "source": []
  }
 ],
 "metadata": {
  "kernelspec": {
   "display_name": "Python 3",
   "language": "python",
   "name": "python3"
  },
  "language_info": {
   "codemirror_mode": {
    "name": "ipython",
    "version": 3
   },
   "file_extension": ".py",
   "mimetype": "text/x-python",
   "name": "python",
   "nbconvert_exporter": "python",
   "pygments_lexer": "ipython3",
   "version": "3.13.2"
  }
 },
 "nbformat": 4,
 "nbformat_minor": 5
}
